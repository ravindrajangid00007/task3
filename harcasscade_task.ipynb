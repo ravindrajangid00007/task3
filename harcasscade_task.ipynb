{
 "cells": [
  {
   "cell_type": "code",
   "execution_count": 1,
   "metadata": {},
   "outputs": [
    {
     "name": "stderr",
     "output_type": "stream",
     "text": [
      "Using TensorFlow backend.\n"
     ]
    }
   ],
   "source": [
    "from keras.models import load_model"
   ]
  },
  {
   "cell_type": "code",
   "execution_count": 2,
   "metadata": {},
   "outputs": [],
   "source": [
    "model =load_model('task_model.h5')"
   ]
  },
  {
   "cell_type": "code",
   "execution_count": 3,
   "metadata": {},
   "outputs": [],
   "source": [
    "import cv2"
   ]
  },
  {
   "cell_type": "code",
   "execution_count": 4,
   "metadata": {},
   "outputs": [],
   "source": [
    "import numpy as np"
   ]
  },
  {
   "cell_type": "code",
   "execution_count": 5,
   "metadata": {},
   "outputs": [],
   "source": [
    "from PIL import Image"
   ]
  },
  {
   "cell_type": "code",
   "execution_count": 6,
   "metadata": {},
   "outputs": [],
   "source": [
    "face_model=cv2.CascadeClassifier('haarcascade_frontalface_default.xml')"
   ]
  },
  {
   "cell_type": "code",
   "execution_count": 7,
   "metadata": {},
   "outputs": [],
   "source": [
    "cap =cv2.VideoCapture(0)"
   ]
  },
  {
   "cell_type": "code",
   "execution_count": 8,
   "metadata": {},
   "outputs": [],
   "source": [
    "import numpy as np"
   ]
  },
  {
   "cell_type": "code",
   "execution_count": null,
   "metadata": {},
   "outputs": [
    {
     "name": "stdout",
     "output_type": "stream",
     "text": [
      "[[1.0000000e+00 3.4644483e-23]]\n",
      "[[1.0000000e+00 1.1997513e-10]]\n",
      "[[9.9997818e-01 1.8582259e-04]]\n",
      "[[1.000000e+00 2.080539e-13]]\n",
      "[[1.000000e+00 7.753675e-10]]\n",
      "[[1.0000000e+00 5.3994816e-21]]\n",
      "[[1.0000000e+00 1.3180496e-16]]\n",
      "[[1.0000000e+00 3.6972496e-25]]\n",
      "[[1.0000000e+00 4.1114526e-15]]\n",
      "[[1.0000000e+00 8.7230337e-13]]\n",
      "[[1.000000e+00 1.590151e-15]]\n",
      "[[1.0000000e+00 1.2455312e-12]]\n",
      "[[1.000000e+00 6.561747e-21]]\n",
      "[[1.000000e+00 7.499182e-14]]\n",
      "[[1.000000e+00 9.583485e-13]]\n",
      "[[1.000000e+00 2.352404e-16]]\n",
      "[[1.0000000e+00 1.0006958e-20]]\n",
      "[[1.0000000e+00 7.3243865e-18]]\n",
      "[[1.00000000e+00 1.02882667e-16]]\n",
      "[[1.0000000e+00 3.7591187e-11]]\n",
      "[[1.0000000e+00 8.4869394e-12]]\n",
      "[[1.0000000e+00 5.9005553e-24]]\n",
      "[[1.0000000e+00 1.3269729e-14]]\n",
      "[[1.0000000e+00 2.3037766e-21]]\n",
      "[[1.0000000e+00 1.7625202e-17]]\n",
      "[[1.000000e+00 6.087098e-15]]\n",
      "[[1.000000e+00 5.122961e-21]]\n",
      "[[1.0000000e+00 5.6173975e-22]]\n",
      "[[1.0000000e+00 1.5714797e-17]]\n",
      "[[1.0000000e+00 1.0096915e-20]]\n",
      "[[1.000000e+00 8.308999e-17]]\n",
      "[[1.0000000e+00 3.9572702e-20]]\n",
      "[[1.0000000e+00 1.2100398e-18]]\n",
      "[[1.0000000e+00 3.1068995e-22]]\n",
      "[[1.0000000e+00 6.4463646e-14]]\n",
      "[[1.000000e+00 7.611729e-29]]\n",
      "[[1.000000e+00 9.630813e-10]]\n",
      "[[1.0000000e+00 1.0741576e-08]]\n",
      "[[1.0000000e+00 1.8039899e-10]]\n",
      "[[0.39247036 0.2690894 ]]\n"
     ]
    }
   ],
   "source": [
    "while True:\n",
    "    status ,photo=cap.read()\n",
    "    face_cor =face_model.detectMultiScale(photo)\n",
    "    if len(face_cor)==0:\n",
    "        pass\n",
    "    else:\n",
    "        (x,y,w,h)=face_cor[0]\n",
    "        cv2.rectangle(photo ,(x,y),(x+w ,y+h) ,[0,255,255] ,3)\n",
    "        crop_img=photo[y:y+h ,x:x+w]\n",
    "        if type(photo) is np.ndarray:\n",
    "            crop_img = np.resize(crop_img ,(224,224,3))\n",
    "            img_array = np.expand_dims(crop_img,axis=0)\n",
    "            pred = model.predict(img_array)\n",
    "            print(pred)\n",
    "            name = 'notmatched'\n",
    "    \n",
    "            if pred[0][0]==1. :\n",
    "                name ='Ravi'\n",
    "                cv2.putText(photo ,name ,(50,50) ,cv2.FONT_HERSHEY_COMPLEX ,1 ,(0,255,0) ,2)\n",
    "            else:\n",
    "                name ='santosh jangid'\n",
    "                cv2.putText(photo ,name ,(50,50) ,cv2.FONT_HERSHEY_COMPLEX ,1 ,(0,255,0) ,2)\n",
    "             \n",
    "    \n",
    "    cv2.imshow('Video',photo)\n",
    "    if cv2.waitKey(10)==13:\n",
    "        break\n",
    "cv2.destroyAllWindows()\n",
    "cv2.release()"
   ]
  },
  {
   "cell_type": "code",
   "execution_count": 13,
   "metadata": {},
   "outputs": [
    {
     "data": {
      "text/plain": [
       "(480, 640, 3)"
      ]
     },
     "execution_count": 13,
     "metadata": {},
     "output_type": "execute_result"
    }
   ],
   "source": [
    "photo.shape"
   ]
  },
  {
   "cell_type": "code",
   "execution_count": null,
   "metadata": {},
   "outputs": [],
   "source": [
    "def face_extract(img):\n",
    "    face_cor =face_model.detectMultiScale(img)\n",
    "    if len(face_cor)==0:\n",
    "        return None\n",
    "    else:\n",
    "        (x,y,w,h)=face_cor[0]\n",
    "        cv2.rectangle(photo ,(x,y),(x+w ,y+h) ,[0,255,255] ,3)\n",
    "        crop_img=img[y:y+h ,x:x+w]\n",
    "        return crop_img"
   ]
  },
  {
   "cell_type": "markdown",
   "metadata": {},
   "source": [
    "###### "
   ]
  }
 ],
 "metadata": {
  "kernelspec": {
   "display_name": "Python [conda env:mytensor]",
   "language": "python",
   "name": "conda-env-mytensor-py"
  },
  "language_info": {
   "codemirror_mode": {
    "name": "ipython",
    "version": 3
   },
   "file_extension": ".py",
   "mimetype": "text/x-python",
   "name": "python",
   "nbconvert_exporter": "python",
   "pygments_lexer": "ipython3",
   "version": "3.6.10"
  }
 },
 "nbformat": 4,
 "nbformat_minor": 4
}
